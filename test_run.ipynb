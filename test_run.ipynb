{
  "nbformat": 4,
  "nbformat_minor": 0,
  "metadata": {
    "colab": {
      "provenance": []
    },
    "kernelspec": {
      "name": "python3",
      "display_name": "Python 3"
    },
    "language_info": {
      "name": "python"
    }
  },
  "cells": [
    {
      "cell_type": "code",
      "execution_count": 1,
      "metadata": {
        "id": "ghmvc0ad-Yy1"
      },
      "outputs": [],
      "source": [
        "import pandas as pd\n",
        "import numpy as np\n",
        "import matplotlib.pyplot as plt\n",
        "import seaborn as sns\n",
        "from sklearn.preprocessing import scale\n",
        "from sklearn.linear_model import LinearRegression\n",
        "from sklearn.model_selection import cross_validate"
      ]
    },
    {
      "cell_type": "code",
      "source": [
        "from google.colab import drive\n",
        "drive.mount('/content/drive')\n"
      ],
      "metadata": {
        "colab": {
          "base_uri": "https://localhost:8080/"
        },
        "id": "hFJFfQ4NFJ2Q",
        "outputId": "7881b455-e044-484b-efd1-5963790f4e17"
      },
      "execution_count": 2,
      "outputs": [
        {
          "output_type": "stream",
          "name": "stdout",
          "text": [
            "Mounted at /content/drive\n"
          ]
        }
      ]
    },
    {
      "cell_type": "code",
      "source": [
        "loan_df = pd.read_csv('/content/drive/MyDrive/loan.csv')"
      ],
      "metadata": {
        "colab": {
          "base_uri": "https://localhost:8080/"
        },
        "id": "4S6Hloz2F6Xk",
        "outputId": "fdf8c2d4-d7ce-4268-fae5-9d24a9641ac2"
      },
      "execution_count": 3,
      "outputs": [
        {
          "output_type": "stream",
          "name": "stderr",
          "text": [
            "<ipython-input-3-c89080dc5bda>:1: DtypeWarning: Columns (19,47,55,112,123,124,125,128,129,130,133,139,140,141) have mixed types. Specify dtype option on import or set low_memory=False.\n",
            "  loan_df = pd.read_csv('/content/drive/MyDrive/loan.csv')\n"
          ]
        }
      ]
    },
    {
      "cell_type": "code",
      "source": [
        "pd.set_option('display.max_info_columns', 200)"
      ],
      "metadata": {
        "id": "turIsSfZRd1i"
      },
      "execution_count": 5,
      "outputs": []
    },
    {
      "cell_type": "code",
      "source": [
        "loan_df.info()"
      ],
      "metadata": {
        "colab": {
          "base_uri": "https://localhost:8080/"
        },
        "id": "jUXrdDs7Gh7K",
        "outputId": "22e04f4a-2325-4830-9ee7-f20f4f176842"
      },
      "execution_count": 6,
      "outputs": [
        {
          "output_type": "stream",
          "name": "stdout",
          "text": [
            "<class 'pandas.core.frame.DataFrame'>\n",
            "RangeIndex: 2260668 entries, 0 to 2260667\n",
            "Data columns (total 145 columns):\n",
            " #    Column                                      Dtype  \n",
            "---   ------                                      -----  \n",
            " 0    id                                          float64\n",
            " 1    member_id                                   float64\n",
            " 2    loan_amnt                                   int64  \n",
            " 3    funded_amnt                                 int64  \n",
            " 4    funded_amnt_inv                             float64\n",
            " 5    term                                        object \n",
            " 6    int_rate                                    float64\n",
            " 7    installment                                 float64\n",
            " 8    grade                                       object \n",
            " 9    sub_grade                                   object \n",
            " 10   emp_title                                   object \n",
            " 11   emp_length                                  object \n",
            " 12   home_ownership                              object \n",
            " 13   annual_inc                                  float64\n",
            " 14   verification_status                         object \n",
            " 15   issue_d                                     object \n",
            " 16   loan_status                                 object \n",
            " 17   pymnt_plan                                  object \n",
            " 18   url                                         float64\n",
            " 19   desc                                        object \n",
            " 20   purpose                                     object \n",
            " 21   title                                       object \n",
            " 22   zip_code                                    object \n",
            " 23   addr_state                                  object \n",
            " 24   dti                                         float64\n",
            " 25   delinq_2yrs                                 float64\n",
            " 26   earliest_cr_line                            object \n",
            " 27   inq_last_6mths                              float64\n",
            " 28   mths_since_last_delinq                      float64\n",
            " 29   mths_since_last_record                      float64\n",
            " 30   open_acc                                    float64\n",
            " 31   pub_rec                                     float64\n",
            " 32   revol_bal                                   int64  \n",
            " 33   revol_util                                  float64\n",
            " 34   total_acc                                   float64\n",
            " 35   initial_list_status                         object \n",
            " 36   out_prncp                                   float64\n",
            " 37   out_prncp_inv                               float64\n",
            " 38   total_pymnt                                 float64\n",
            " 39   total_pymnt_inv                             float64\n",
            " 40   total_rec_prncp                             float64\n",
            " 41   total_rec_int                               float64\n",
            " 42   total_rec_late_fee                          float64\n",
            " 43   recoveries                                  float64\n",
            " 44   collection_recovery_fee                     float64\n",
            " 45   last_pymnt_d                                object \n",
            " 46   last_pymnt_amnt                             float64\n",
            " 47   next_pymnt_d                                object \n",
            " 48   last_credit_pull_d                          object \n",
            " 49   collections_12_mths_ex_med                  float64\n",
            " 50   mths_since_last_major_derog                 float64\n",
            " 51   policy_code                                 int64  \n",
            " 52   application_type                            object \n",
            " 53   annual_inc_joint                            float64\n",
            " 54   dti_joint                                   float64\n",
            " 55   verification_status_joint                   object \n",
            " 56   acc_now_delinq                              float64\n",
            " 57   tot_coll_amt                                float64\n",
            " 58   tot_cur_bal                                 float64\n",
            " 59   open_acc_6m                                 float64\n",
            " 60   open_act_il                                 float64\n",
            " 61   open_il_12m                                 float64\n",
            " 62   open_il_24m                                 float64\n",
            " 63   mths_since_rcnt_il                          float64\n",
            " 64   total_bal_il                                float64\n",
            " 65   il_util                                     float64\n",
            " 66   open_rv_12m                                 float64\n",
            " 67   open_rv_24m                                 float64\n",
            " 68   max_bal_bc                                  float64\n",
            " 69   all_util                                    float64\n",
            " 70   total_rev_hi_lim                            float64\n",
            " 71   inq_fi                                      float64\n",
            " 72   total_cu_tl                                 float64\n",
            " 73   inq_last_12m                                float64\n",
            " 74   acc_open_past_24mths                        float64\n",
            " 75   avg_cur_bal                                 float64\n",
            " 76   bc_open_to_buy                              float64\n",
            " 77   bc_util                                     float64\n",
            " 78   chargeoff_within_12_mths                    float64\n",
            " 79   delinq_amnt                                 float64\n",
            " 80   mo_sin_old_il_acct                          float64\n",
            " 81   mo_sin_old_rev_tl_op                        float64\n",
            " 82   mo_sin_rcnt_rev_tl_op                       float64\n",
            " 83   mo_sin_rcnt_tl                              float64\n",
            " 84   mort_acc                                    float64\n",
            " 85   mths_since_recent_bc                        float64\n",
            " 86   mths_since_recent_bc_dlq                    float64\n",
            " 87   mths_since_recent_inq                       float64\n",
            " 88   mths_since_recent_revol_delinq              float64\n",
            " 89   num_accts_ever_120_pd                       float64\n",
            " 90   num_actv_bc_tl                              float64\n",
            " 91   num_actv_rev_tl                             float64\n",
            " 92   num_bc_sats                                 float64\n",
            " 93   num_bc_tl                                   float64\n",
            " 94   num_il_tl                                   float64\n",
            " 95   num_op_rev_tl                               float64\n",
            " 96   num_rev_accts                               float64\n",
            " 97   num_rev_tl_bal_gt_0                         float64\n",
            " 98   num_sats                                    float64\n",
            " 99   num_tl_120dpd_2m                            float64\n",
            " 100  num_tl_30dpd                                float64\n",
            " 101  num_tl_90g_dpd_24m                          float64\n",
            " 102  num_tl_op_past_12m                          float64\n",
            " 103  pct_tl_nvr_dlq                              float64\n",
            " 104  percent_bc_gt_75                            float64\n",
            " 105  pub_rec_bankruptcies                        float64\n",
            " 106  tax_liens                                   float64\n",
            " 107  tot_hi_cred_lim                             float64\n",
            " 108  total_bal_ex_mort                           float64\n",
            " 109  total_bc_limit                              float64\n",
            " 110  total_il_high_credit_limit                  float64\n",
            " 111  revol_bal_joint                             float64\n",
            " 112  sec_app_earliest_cr_line                    object \n",
            " 113  sec_app_inq_last_6mths                      float64\n",
            " 114  sec_app_mort_acc                            float64\n",
            " 115  sec_app_open_acc                            float64\n",
            " 116  sec_app_revol_util                          float64\n",
            " 117  sec_app_open_act_il                         float64\n",
            " 118  sec_app_num_rev_accts                       float64\n",
            " 119  sec_app_chargeoff_within_12_mths            float64\n",
            " 120  sec_app_collections_12_mths_ex_med          float64\n",
            " 121  sec_app_mths_since_last_major_derog         float64\n",
            " 122  hardship_flag                               object \n",
            " 123  hardship_type                               object \n",
            " 124  hardship_reason                             object \n",
            " 125  hardship_status                             object \n",
            " 126  deferral_term                               float64\n",
            " 127  hardship_amount                             float64\n",
            " 128  hardship_start_date                         object \n",
            " 129  hardship_end_date                           object \n",
            " 130  payment_plan_start_date                     object \n",
            " 131  hardship_length                             float64\n",
            " 132  hardship_dpd                                float64\n",
            " 133  hardship_loan_status                        object \n",
            " 134  orig_projected_additional_accrued_interest  float64\n",
            " 135  hardship_payoff_balance_amount              float64\n",
            " 136  hardship_last_payment_amount                float64\n",
            " 137  disbursement_method                         object \n",
            " 138  debt_settlement_flag                        object \n",
            " 139  debt_settlement_flag_date                   object \n",
            " 140  settlement_status                           object \n",
            " 141  settlement_date                             object \n",
            " 142  settlement_amount                           float64\n",
            " 143  settlement_percentage                       float64\n",
            " 144  settlement_term                             float64\n",
            "dtypes: float64(105), int64(4), object(36)\n",
            "memory usage: 2.4+ GB\n"
          ]
        }
      ]
    },
    {
      "cell_type": "code",
      "source": [
        "loan_df['loan_status'].value_counts()"
      ],
      "metadata": {
        "colab": {
          "base_uri": "https://localhost:8080/"
        },
        "id": "1EuQtzPRRhqB",
        "outputId": "5d6b977e-4867-4b47-8f80-ad39fded3bca"
      },
      "execution_count": 7,
      "outputs": [
        {
          "output_type": "execute_result",
          "data": {
            "text/plain": [
              "Fully Paid                                             1041952\n",
              "Current                                                 919695\n",
              "Charged Off                                             261655\n",
              "Late (31-120 days)                                       21897\n",
              "In Grace Period                                           8952\n",
              "Late (16-30 days)                                         3737\n",
              "Does not meet the credit policy. Status:Fully Paid        1988\n",
              "Does not meet the credit policy. Status:Charged Off        761\n",
              "Default                                                     31\n",
              "Name: loan_status, dtype: int64"
            ]
          },
          "metadata": {},
          "execution_count": 7
        }
      ]
    }
  ]
}